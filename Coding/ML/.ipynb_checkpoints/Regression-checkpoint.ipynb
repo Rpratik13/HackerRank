{
 "cells": [
  {
   "cell_type": "code",
   "execution_count": 11,
   "metadata": {},
   "outputs": [],
   "source": [
    "import pandas as pd\n",
    "import quandl"
   ]
  },
  {
   "cell_type": "code",
   "execution_count": 16,
   "metadata": {},
   "outputs": [
    {
     "name": "stdout",
     "output_type": "stream",
     "text": [
      "            Adj. Open  Adj. High   Adj. Low   Adj. Low  Adj. Close  \\\n",
      "Date                                                                 \n",
      "2004-08-19  50.159839  52.191109  48.128568  48.128568   50.322842   \n",
      "2004-08-20  50.661387  54.708881  50.405597  50.405597   54.322689   \n",
      "2004-08-23  55.551482  56.915693  54.693835  54.693835   54.869377   \n",
      "2004-08-24  55.792225  55.972783  51.945350  51.945350   52.597363   \n",
      "2004-08-25  52.542193  54.167209  52.100830  52.100830   53.164113   \n",
      "\n",
      "            Adj. Volume  \n",
      "Date                     \n",
      "2004-08-19   44659000.0  \n",
      "2004-08-20   22834300.0  \n",
      "2004-08-23   18256100.0  \n",
      "2004-08-24   15247300.0  \n",
      "2004-08-25    9188600.0  \n"
     ]
    }
   ],
   "source": [
    "df = quandl.get('WIKI/GOOGL')\n",
    "df = df[['Adj. Open', 'Adj. High', 'Adj. Low', 'Adj. Low', 'Adj. Close', 'Adj. Volume']]\n",
    "df['HL_PCT'] = ((df['Adj. High'] - df['Adj. Close']) / df['Adj. Close']) * 100\n",
    "print(df.head())"
   ]
  }
 ],
 "metadata": {
  "kernelspec": {
   "display_name": "Python 3",
   "language": "python",
   "name": "python3"
  },
  "language_info": {
   "codemirror_mode": {
    "name": "ipython",
    "version": 3
   },
   "file_extension": ".py",
   "mimetype": "text/x-python",
   "name": "python",
   "nbconvert_exporter": "python",
   "pygments_lexer": "ipython3",
   "version": "3.6.8"
  }
 },
 "nbformat": 4,
 "nbformat_minor": 2
}
